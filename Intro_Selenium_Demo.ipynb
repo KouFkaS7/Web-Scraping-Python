{
  "nbformat": 4,
  "nbformat_minor": 0,
  "metadata": {
    "colab": {
      "provenance": [],
      "authorship_tag": "ABX9TyPrTIOqqBPCf7GsivpZynII",
      "include_colab_link": true
    },
    "kernelspec": {
      "name": "python3",
      "display_name": "Python 3"
    },
    "language_info": {
      "name": "python"
    }
  },
  "cells": [
    {
      "cell_type": "markdown",
      "metadata": {
        "id": "view-in-github",
        "colab_type": "text"
      },
      "source": [
        "<a href=\"https://colab.research.google.com/github/KouFkaS7/Web-Scraping-Python/blob/main/Intro_Selenium_Demo.ipynb\" target=\"_parent\"><img src=\"https://colab.research.google.com/assets/colab-badge.svg\" alt=\"Open In Colab\"/></a>"
      ]
    },
    {
      "cell_type": "code",
      "source": [
        "pip install -U selenium\n"
      ],
      "metadata": {
        "id": "qzgisFFTcnWC"
      },
      "execution_count": null,
      "outputs": []
    },
    {
      "cell_type": "code",
      "source": [
        "pip install webdriver-manager\n"
      ],
      "metadata": {
        "id": "CTPTV36xfWGN"
      },
      "execution_count": null,
      "outputs": []
    },
    {
      "cell_type": "code",
      "source": [
        "from selenium import webdriver\n",
        "from selenium.webdriver.common.by import By\n",
        "from selenium.webdriver.chrome.service import Service\n",
        "from selenium.webdriver.chrome.options import Options\n",
        "from webdriver_manager.chrome import ChromeDriverManager\n",
        "import time\n",
        "\n",
        "url = ''\n",
        "chrome_options = Options()\n",
        "chrome_options.add_argument(\"--headless\")\n",
        "chrome_options.add_argument('--no-sandbox')\n",
        "chrome_options.add_argument('--disable-dev-shm-usage')\n",
        "driver = webdriver.Chrome(options=chrome_options)\n",
        "\n",
        "\n",
        "# Open the webpage\n",
        "driver.get(url)\n",
        "\n",
        "# Initialize the list to store links\n",
        "homelinks = []\n",
        "\n",
        "\n",
        "\n",
        "while True:\n",
        "    # Find the elements matching the required class\n",
        "    homelist = driver.find_elements(By.CLASS_NAME, 'lazyload-wrapper')\n",
        "\n",
        "    # Loop through the homelist to extract links\n",
        "    for tile in homelist:\n",
        "        links = tile.find_elements(By.TAG_NAME, 'a')\n",
        "        for link in links:\n",
        "            href = link.get_attribute('href')\n",
        "            if href and baseurl + href not in homelinks:  # Ensure no duplicate links\n",
        "                homelinks.append(href)\n",
        "\n",
        "    # Wait for new data to load\n",
        "    time.sleep(3)  # Adjust the sleep time as necessary for your connection\n",
        "\n",
        "# Print or use the extracted links\n",
        "print(homelinks)\n",
        "\n",
        "# Close the WebDriver\n",
        "driver.quit()\n"
      ],
      "metadata": {
        "id": "EBy5UG5dfABm"
      },
      "execution_count": null,
      "outputs": []
    },
    {
      "cell_type": "code",
      "source": [
        "print(len(homelinks))"
      ],
      "metadata": {
        "colab": {
          "base_uri": "https://localhost:8080/"
        },
        "id": "mtx5OylNfkq5",
        "outputId": "2f0e14b2-454a-4376-c0e3-49461af62335"
      },
      "execution_count": null,
      "outputs": [
        {
          "output_type": "stream",
          "name": "stdout",
          "text": [
            "8\n"
          ]
        }
      ]
    }
  ]
}
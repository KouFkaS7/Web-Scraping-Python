{
  "nbformat": 4,
  "nbformat_minor": 0,
  "metadata": {
    "colab": {
      "provenance": [],
      "authorship_tag": "ABX9TyN085dpp/DCWW8SdA5APi2C",
      "include_colab_link": true
    },
    "kernelspec": {
      "name": "python3",
      "display_name": "Python 3"
    },
    "language_info": {
      "name": "python"
    }
  },
  "cells": [
    {
      "cell_type": "markdown",
      "metadata": {
        "id": "view-in-github",
        "colab_type": "text"
      },
      "source": [
        "<a href=\"https://colab.research.google.com/github/KouFkaS7/Web-Scraping-Python/blob/main/BeautifulSoup.ipynb\" target=\"_parent\"><img src=\"https://colab.research.google.com/assets/colab-badge.svg\" alt=\"Open In Colab\"/></a>"
      ]
    },
    {
      "cell_type": "code",
      "execution_count": null,
      "metadata": {
        "id": "vcOXO0iBVc5K"
      },
      "outputs": [],
      "source": [
        "import requests\n",
        "from bs4 import BeautifulSoup\n"
      ]
    },
    {
      "cell_type": "code",
      "source": [
        "import requests\n",
        "from bs4 import BeautifulSoup\n",
        "\n",
        "base_url = \"\"\n",
        "\n",
        "\n",
        "headers = {\n",
        "    'User-Agent': 'Mozilla/5.0 (Windows NT 10.0; Win64; x64) AppleWebKit/537.36 (KHTML, like Gecko) Chrome/96.0.4664.45 Safari/537.36',\n",
        "    'Accept-Language': 'en-US,en;q=0.9',\n",
        "    'Referer': 'https://www.google.com/',\n",
        "    'DNT': '1',  # Do Not Track\n",
        "}\n",
        "\n",
        "response = requests.get(search_url, headers=headers)\n",
        "\n",
        "if response.status_code == 200:\n",
        "\n",
        "    soup = BeautifulSoup(response.content, 'html.parser')\n",
        "\n",
        "\n",
        "    properties = soup.find_all('div', class_='listing-row')\n",
        "\n",
        "    # Λίστα για αποθήκευση των αποτελεσμάτων\n",
        "    listings = []\n",
        "\n",
        "    for property in properties:\n",
        "        title = property.find('h2', class_='title').text.strip()  # Παράδειγμα\n",
        "        price = property.find('span', class_='price').text.strip()\n",
        "        location = property.find('span', class_='location').text.strip()\n",
        "\n",
        "        listing = {'title': title, 'price': price, 'location': location}\n",
        "        listings.append(listing)\n",
        "\n",
        "    # Εμφάνιση των αποτελεσμάτων\n",
        "    for l in listings:\n",
        "        print(l)\n",
        "else:\n",
        "    print(f\"Failed to retrieve data. Status code: {response.status_code}\")\n"
      ],
      "metadata": {
        "id": "2zI9pdd8WltE"
      },
      "execution_count": null,
      "outputs": []
    }
  ]
}